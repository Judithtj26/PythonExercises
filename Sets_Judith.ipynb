{
  "cells": [
    {
      "cell_type": "markdown",
      "metadata": {
        "id": "VPKkkKxEr5LM"
      },
      "source": [
        "## Challenge 2: Sets\n",
        "\n",
        "There are a lot to learn about Python Sets and the information presented in the lesson is limited due to its length. To learn Python Sets in depth you are strongly encouraged to review the W3Schools tutorial on [Python Sets Examples and Methods](https://www.w3schools.com/python/python_sets.asp) before you work on this lab. Some difficult questions in this lab have their solutions in the W3Schools tutorial.\n",
        "\n",
        "#### First, import the Python `random` library."
      ]
    },
    {
      "cell_type": "code",
      "execution_count": 1,
      "metadata": {
        "id": "v2gVvjVFr5LN"
      },
      "outputs": [],
      "source": [
        "import random"
      ]
    },
    {
      "cell_type": "markdown",
      "metadata": {
        "id": "yz98Onnnr5LO"
      },
      "source": [
        "#### In the cell below, create a list named `sample_list_1` with 80 random values.\n",
        "\n",
        "Requirements:\n",
        "\n",
        "* Each value is an integer falling between 0 and 100.\n",
        "* Each value in the list is unique.\n",
        "\n",
        "Print `sample_list_1` to review its values\n",
        "\n",
        "*Hint: use `random.sample` ([reference](https://docs.python.org/3/library/random.html#random.sample)).*"
      ]
    },
    {
      "cell_type": "code",
      "source": [
        "sample_list_1 = random.sample(range(100),80)\n",
        "print(sample_list_1)"
      ],
      "metadata": {
        "colab": {
          "base_uri": "https://localhost:8080/"
        },
        "id": "yz4hoTtR1Og5",
        "outputId": "69d088f7-e40b-4353-adf3-16bf67e194f8"
      },
      "execution_count": 2,
      "outputs": [
        {
          "output_type": "stream",
          "name": "stdout",
          "text": [
            "[37, 55, 95, 98, 25, 28, 31, 82, 35, 61, 30, 18, 72, 46, 44, 40, 84, 13, 10, 64, 78, 49, 33, 0, 94, 91, 3, 79, 1, 6, 76, 59, 54, 43, 19, 22, 57, 50, 24, 66, 47, 5, 39, 29, 81, 93, 38, 42, 17, 2, 77, 14, 15, 52, 69, 20, 96, 26, 67, 92, 12, 86, 56, 53, 68, 41, 85, 99, 36, 89, 83, 23, 75, 97, 71, 73, 11, 21, 80, 90]\n"
          ]
        }
      ]
    },
    {
      "cell_type": "markdown",
      "metadata": {
        "id": "oqmbeslKr5LP"
      },
      "source": [
        "#### Convert `sample_list_1` to a set called `set1`. Print the length of the set. Is its length still 80?"
      ]
    },
    {
      "cell_type": "code",
      "execution_count": 3,
      "metadata": {
        "colab": {
          "base_uri": "https://localhost:8080/"
        },
        "id": "sJeAn2z1r5LP",
        "outputId": "a5792d8d-d429-4798-d4ee-900a2a705a38"
      },
      "outputs": [
        {
          "output_type": "stream",
          "name": "stdout",
          "text": [
            "80\n"
          ]
        }
      ],
      "source": [
        "# Your code here\n",
        "set1 = set(sample_list_1)\n",
        "print(len(set1))"
      ]
    },
    {
      "cell_type": "markdown",
      "metadata": {
        "id": "rKnNGk0hr5LQ"
      },
      "source": [
        "#### Create another list named `sample_list_2` with 80 random values.\n",
        "\n",
        "Requirements:\n",
        "\n",
        "* Each value is an integer falling between 0 and 100.\n",
        "* The values in the list don't have to be unique.\n",
        "\n",
        "*Hint: Use a FOR loop.*"
      ]
    },
    {
      "cell_type": "code",
      "execution_count": 6,
      "metadata": {
        "colab": {
          "base_uri": "https://localhost:8080/"
        },
        "id": "9jpjQgXlr5LQ",
        "outputId": "b2236c0e-7a7b-42b5-bad5-91712877a7bd"
      },
      "outputs": [
        {
          "output_type": "stream",
          "name": "stdout",
          "text": [
            "[96, 49, 74, 87, 29, 97, 97, 90, 54, 1, 40, 38, 27, 7, 81, 13, 7, 82, 90, 53, 76, 28, 32, 37, 71, 71, 91, 88, 99, 100, 58, 71, 69, 8, 47, 77, 4, 81, 86, 62, 58, 57, 63, 28, 40, 70, 80, 46, 75, 63, 88, 46, 48, 86, 5, 19, 37, 58, 67, 21, 79, 24, 7, 82, 68, 85, 59, 1, 85, 25, 62, 70, 82, 39, 74, 62, 2, 95, 69, 81]\n"
          ]
        }
      ],
      "source": [
        "# Your code here\n",
        "sample_list_2 = []\n",
        "for i in range(80):\n",
        "    sample_list_2.append(random.randint(0,100))\n",
        "print(sample_list_2)"
      ]
    },
    {
      "cell_type": "markdown",
      "metadata": {
        "id": "ncu7s0Ulr5LQ"
      },
      "source": [
        "#### Convert `sample_list_2` to a set called `set2`. Print the length of the set. Is its length still 80?"
      ]
    },
    {
      "cell_type": "code",
      "execution_count": 7,
      "metadata": {
        "colab": {
          "base_uri": "https://localhost:8080/"
        },
        "id": "60KXTelBr5LQ",
        "outputId": "d518649d-a8d6-4cab-b822-1882d7fe39fb"
      },
      "outputs": [
        {
          "output_type": "stream",
          "name": "stdout",
          "text": [
            "54\n"
          ]
        }
      ],
      "source": [
        "# Your code here\n",
        "set2 = set(sample_list_2)\n",
        "print(len(set2))"
      ]
    },
    {
      "cell_type": "markdown",
      "metadata": {
        "id": "g07ZWfaEr5LR"
      },
      "source": [
        "#### Identify the elements present in `set1` but not in `set2`. Assign the elements to a new set named `set3`."
      ]
    },
    {
      "cell_type": "code",
      "execution_count": 14,
      "metadata": {
        "colab": {
          "base_uri": "https://localhost:8080/"
        },
        "id": "fjnYWVOsr5LR",
        "outputId": "78cd869b-064b-4f59-d10e-938e681a23ac"
      },
      "outputs": [
        {
          "output_type": "execute_result",
          "data": {
            "text/plain": [
              "{0,\n",
              " 3,\n",
              " 6,\n",
              " 10,\n",
              " 11,\n",
              " 12,\n",
              " 14,\n",
              " 15,\n",
              " 17,\n",
              " 18,\n",
              " 20,\n",
              " 22,\n",
              " 23,\n",
              " 26,\n",
              " 30,\n",
              " 31,\n",
              " 33,\n",
              " 35,\n",
              " 36,\n",
              " 41,\n",
              " 42,\n",
              " 43,\n",
              " 44,\n",
              " 50,\n",
              " 52,\n",
              " 55,\n",
              " 56,\n",
              " 61,\n",
              " 64,\n",
              " 66,\n",
              " 72,\n",
              " 73,\n",
              " 78,\n",
              " 83,\n",
              " 84,\n",
              " 89,\n",
              " 92,\n",
              " 93,\n",
              " 94,\n",
              " 98}"
            ]
          },
          "metadata": {},
          "execution_count": 14
        }
      ],
      "source": [
        "set3 = set1.difference(set2)\n",
        "set3"
      ]
    },
    {
      "cell_type": "markdown",
      "metadata": {
        "id": "eHTEVkHWr5LS"
      },
      "source": [
        "#### Identify the elements present in `set2` but not in `set1`. Assign the elements to a new set named `set4`."
      ]
    },
    {
      "cell_type": "code",
      "execution_count": 15,
      "metadata": {
        "colab": {
          "base_uri": "https://localhost:8080/"
        },
        "id": "unmeAcwnr5LS",
        "outputId": "191c89eb-04d6-4d39-afba-19dad3c735b6"
      },
      "outputs": [
        {
          "output_type": "execute_result",
          "data": {
            "text/plain": [
              "{4, 7, 8, 27, 32, 48, 58, 62, 63, 70, 74, 87, 88, 100}"
            ]
          },
          "metadata": {},
          "execution_count": 15
        }
      ],
      "source": [
        "set4 = set2.difference(set1)\n",
        "set4"
      ]
    },
    {
      "cell_type": "markdown",
      "metadata": {
        "id": "Mho7dljer5LS"
      },
      "source": [
        "#### Now Identify the elements shared between `set1` and `set2`. Assign the elements to a new set named `set5`."
      ]
    },
    {
      "cell_type": "code",
      "execution_count": 16,
      "metadata": {
        "colab": {
          "base_uri": "https://localhost:8080/"
        },
        "id": "tKsmZ81ir5LT",
        "outputId": "a8e47118-c2f5-4a81-bed6-141fd9f55b12"
      },
      "outputs": [
        {
          "output_type": "execute_result",
          "data": {
            "text/plain": [
              "{1,\n",
              " 2,\n",
              " 5,\n",
              " 13,\n",
              " 19,\n",
              " 21,\n",
              " 24,\n",
              " 25,\n",
              " 28,\n",
              " 29,\n",
              " 37,\n",
              " 38,\n",
              " 39,\n",
              " 40,\n",
              " 46,\n",
              " 47,\n",
              " 49,\n",
              " 53,\n",
              " 54,\n",
              " 57,\n",
              " 59,\n",
              " 67,\n",
              " 68,\n",
              " 69,\n",
              " 71,\n",
              " 75,\n",
              " 76,\n",
              " 77,\n",
              " 79,\n",
              " 80,\n",
              " 81,\n",
              " 82,\n",
              " 85,\n",
              " 86,\n",
              " 90,\n",
              " 91,\n",
              " 95,\n",
              " 96,\n",
              " 97,\n",
              " 99}"
            ]
          },
          "metadata": {},
          "execution_count": 16
        }
      ],
      "source": [
        "set5 = set1.intersection(set2)\n",
        "set5"
      ]
    },
    {
      "cell_type": "markdown",
      "metadata": {
        "id": "jg9ykA-mr5LT"
      },
      "source": [
        "#### What is the relationship among the following values:\n",
        "\n",
        "* len(set1)\n",
        "* len(set2)\n",
        "* len(set3)\n",
        "* len(set4)\n",
        "* len(set5)\n",
        "\n",
        "Use a math formular to represent that relationship. Test your formular with Python code."
      ]
    },
    {
      "cell_type": "code",
      "source": [
        "relationship = len(set3) + len(set4) + len(set5) * 2 == len(set1) + len(set2)\n",
        "relationship"
      ],
      "metadata": {
        "colab": {
          "base_uri": "https://localhost:8080/"
        },
        "id": "Fq-c7Vpz3Lgy",
        "outputId": "adbe980e-2591-492c-ed0b-ac4bf1ca88c3"
      },
      "execution_count": 21,
      "outputs": [
        {
          "output_type": "execute_result",
          "data": {
            "text/plain": [
              "True"
            ]
          },
          "metadata": {},
          "execution_count": 21
        }
      ]
    },
    {
      "cell_type": "markdown",
      "metadata": {
        "id": "yAC6katdr5LU"
      },
      "source": [
        "#### Create an empty set called `set6`."
      ]
    },
    {
      "cell_type": "code",
      "execution_count": 20,
      "metadata": {
        "colab": {
          "base_uri": "https://localhost:8080/"
        },
        "id": "YQdfMKNZr5LU",
        "outputId": "30006d30-a278-4f5f-d2e1-1f11c02a2b49"
      },
      "outputs": [
        {
          "output_type": "execute_result",
          "data": {
            "text/plain": [
              "set()"
            ]
          },
          "metadata": {},
          "execution_count": 20
        }
      ],
      "source": [
        "# Your code here\n",
        "set6 = set()\n",
        "set6"
      ]
    },
    {
      "cell_type": "markdown",
      "metadata": {
        "id": "XFMZOiCIr5LU"
      },
      "source": [
        "#### Add `set3` and `set5` to `set6` using the Python Set `update` method."
      ]
    },
    {
      "cell_type": "code",
      "execution_count": 23,
      "metadata": {
        "id": "QlPvpML_r5LU"
      },
      "outputs": [],
      "source": [
        "# Your code here\n",
        "update = set6.update(set3,set5)\n",
        "update"
      ]
    },
    {
      "cell_type": "markdown",
      "metadata": {
        "id": "5_gkSDeVr5LV"
      },
      "source": [
        "#### Check if `set1` and `set6` are equal."
      ]
    },
    {
      "cell_type": "code",
      "execution_count": 24,
      "metadata": {
        "colab": {
          "base_uri": "https://localhost:8080/"
        },
        "id": "si7qQ3Pir5LV",
        "outputId": "4800e9c7-0747-4d7a-fed2-38dba71f998e"
      },
      "outputs": [
        {
          "output_type": "execute_result",
          "data": {
            "text/plain": [
              "True"
            ]
          },
          "metadata": {},
          "execution_count": 24
        }
      ],
      "source": [
        "# Your code here\n",
        "set1 == set6"
      ]
    },
    {
      "cell_type": "markdown",
      "metadata": {
        "id": "Q8l41ZZSr5LV"
      },
      "source": [
        "#### Check if `set1` contains `set2` using the Python Set `issubset` method. Then check if `set1` contains `set3`.*"
      ]
    },
    {
      "cell_type": "code",
      "execution_count": 25,
      "metadata": {
        "colab": {
          "base_uri": "https://localhost:8080/"
        },
        "id": "VnZ6sk42r5LV",
        "outputId": "6b439000-e71b-4fcc-abdd-ad221df0bafa"
      },
      "outputs": [
        {
          "output_type": "execute_result",
          "data": {
            "text/plain": [
              "False"
            ]
          },
          "metadata": {},
          "execution_count": 25
        }
      ],
      "source": [
        "# Your code here\n",
        "set2.issubset(set1)"
      ]
    },
    {
      "cell_type": "markdown",
      "metadata": {
        "id": "vmB_tne1r5LV"
      },
      "source": [
        "#### Using the Python Set `union` method, aggregate `set3`, `set4`, and `set5`. Then aggregate `set1` and `set2`.\n",
        "\n",
        "#### Check if the aggregated values are equal."
      ]
    },
    {
      "cell_type": "code",
      "execution_count": 26,
      "metadata": {
        "colab": {
          "base_uri": "https://localhost:8080/"
        },
        "id": "bi_M2GHZr5LW",
        "outputId": "6800db38-67de-41b6-8a07-a65ee24207b8"
      },
      "outputs": [
        {
          "output_type": "execute_result",
          "data": {
            "text/plain": [
              "{0,\n",
              " 1,\n",
              " 2,\n",
              " 3,\n",
              " 4,\n",
              " 5,\n",
              " 6,\n",
              " 7,\n",
              " 8,\n",
              " 10,\n",
              " 11,\n",
              " 12,\n",
              " 13,\n",
              " 14,\n",
              " 15,\n",
              " 17,\n",
              " 18,\n",
              " 19,\n",
              " 20,\n",
              " 21,\n",
              " 22,\n",
              " 23,\n",
              " 24,\n",
              " 25,\n",
              " 26,\n",
              " 27,\n",
              " 28,\n",
              " 29,\n",
              " 30,\n",
              " 31,\n",
              " 32,\n",
              " 33,\n",
              " 35,\n",
              " 36,\n",
              " 37,\n",
              " 38,\n",
              " 39,\n",
              " 40,\n",
              " 41,\n",
              " 42,\n",
              " 43,\n",
              " 44,\n",
              " 46,\n",
              " 47,\n",
              " 48,\n",
              " 49,\n",
              " 50,\n",
              " 52,\n",
              " 53,\n",
              " 54,\n",
              " 55,\n",
              " 56,\n",
              " 57,\n",
              " 58,\n",
              " 59,\n",
              " 61,\n",
              " 62,\n",
              " 63,\n",
              " 64,\n",
              " 66,\n",
              " 67,\n",
              " 68,\n",
              " 69,\n",
              " 70,\n",
              " 71,\n",
              " 72,\n",
              " 73,\n",
              " 74,\n",
              " 75,\n",
              " 76,\n",
              " 77,\n",
              " 78,\n",
              " 79,\n",
              " 80,\n",
              " 81,\n",
              " 82,\n",
              " 83,\n",
              " 84,\n",
              " 85,\n",
              " 86,\n",
              " 87,\n",
              " 88,\n",
              " 89,\n",
              " 90,\n",
              " 91,\n",
              " 92,\n",
              " 93,\n",
              " 94,\n",
              " 95,\n",
              " 96,\n",
              " 97,\n",
              " 98,\n",
              " 99,\n",
              " 100}"
            ]
          },
          "metadata": {},
          "execution_count": 26
        }
      ],
      "source": [
        "# Your code here\n",
        "union = set3.union(set4,set5)\n",
        "union"
      ]
    },
    {
      "cell_type": "markdown",
      "metadata": {
        "id": "sZ_Xd9AAr5LW"
      },
      "source": [
        "#### Using the `pop` method, remove the first element from `set1`."
      ]
    },
    {
      "cell_type": "code",
      "execution_count": 28,
      "metadata": {
        "colab": {
          "base_uri": "https://localhost:8080/"
        },
        "id": "u5M5hygNr5LW",
        "outputId": "02834970-4375-4f7a-850f-63160a58aba1"
      },
      "outputs": [
        {
          "output_type": "execute_result",
          "data": {
            "text/plain": [
              "0"
            ]
          },
          "metadata": {},
          "execution_count": 28
        }
      ],
      "source": [
        "# Your code here\n",
        "remove = set1.pop()\n",
        "pop"
      ]
    },
    {
      "cell_type": "markdown",
      "metadata": {
        "id": "iprsBKp8r5LW"
      },
      "source": [
        "#### Remove every element in the following list from `set1` if they are present in the set. Print the remaining elements.\n",
        "\n",
        "```\n",
        "list_to_remove = [1, 9, 11, 19, 21, 29, 31, 39, 41, 49, 51, 59, 61, 69, 71, 79, 81, 89, 91, 99]\n",
        "```"
      ]
    },
    {
      "cell_type": "code",
      "execution_count": 31,
      "metadata": {
        "colab": {
          "base_uri": "https://localhost:8080/"
        },
        "id": "59XPxL1Er5LX",
        "outputId": "fb1f63ba-fe8e-45d6-dd12-0f6c2343f723"
      },
      "outputs": [
        {
          "output_type": "execute_result",
          "data": {
            "text/plain": [
              "{2,\n",
              " 3,\n",
              " 5,\n",
              " 6,\n",
              " 10,\n",
              " 12,\n",
              " 13,\n",
              " 14,\n",
              " 15,\n",
              " 17,\n",
              " 18,\n",
              " 20,\n",
              " 22,\n",
              " 23,\n",
              " 24,\n",
              " 25,\n",
              " 26,\n",
              " 28,\n",
              " 30,\n",
              " 33,\n",
              " 35,\n",
              " 36,\n",
              " 37,\n",
              " 38,\n",
              " 40,\n",
              " 42,\n",
              " 43,\n",
              " 44,\n",
              " 46,\n",
              " 47,\n",
              " 50,\n",
              " 52,\n",
              " 53,\n",
              " 54,\n",
              " 55,\n",
              " 56,\n",
              " 57,\n",
              " 64,\n",
              " 66,\n",
              " 67,\n",
              " 68,\n",
              " 72,\n",
              " 73,\n",
              " 75,\n",
              " 76,\n",
              " 77,\n",
              " 78,\n",
              " 80,\n",
              " 82,\n",
              " 83,\n",
              " 84,\n",
              " 85,\n",
              " 86,\n",
              " 90,\n",
              " 92,\n",
              " 93,\n",
              " 94,\n",
              " 95,\n",
              " 96,\n",
              " 97,\n",
              " 98}"
            ]
          },
          "metadata": {},
          "execution_count": 31
        }
      ],
      "source": [
        "# Your code here\n",
        "list_to_remove = [1, 9, 11, 19, 21, 29, 31, 39, 41, 49, 51, 59, 61, 69, 71, 79, 81, 89, 91, 99]\n",
        "remove1 = set1.difference(list_to_remove)\n",
        "remove1"
      ]
    }
  ],
  "metadata": {
    "kernelspec": {
      "display_name": "Python 3",
      "language": "python",
      "name": "python3"
    },
    "language_info": {
      "codemirror_mode": {
        "name": "ipython",
        "version": 3
      },
      "file_extension": ".py",
      "mimetype": "text/x-python",
      "name": "python",
      "nbconvert_exporter": "python",
      "pygments_lexer": "ipython3",
      "version": "3.7.2"
    },
    "colab": {
      "provenance": []
    }
  },
  "nbformat": 4,
  "nbformat_minor": 0
}