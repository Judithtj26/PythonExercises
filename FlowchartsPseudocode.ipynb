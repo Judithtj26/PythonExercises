{
  "nbformat": 4,
  "nbformat_minor": 0,
  "metadata": {
    "colab": {
      "provenance": []
    },
    "kernelspec": {
      "name": "python3",
      "display_name": "Python 3"
    },
    "language_info": {
      "name": "python"
    }
  },
  "cells": [
    {
      "cell_type": "markdown",
      "source": [
        "# Pseudocode for the case: Define if a given number is prime or not"
      ],
      "metadata": {
        "id": "0o2_2PflWL93"
      }
    },
    {
      "cell_type": "markdown",
      "source": [
        "Input: number n\n",
        "\n",
        "// Check if n is a natural number greater than 1\n",
        "If n <= 1 then\n",
        "    Output \"Not prime\"\n",
        "    Stop\n",
        "\n",
        "// Check if n can be expressed as a product of two smaller natural numbers\n",
        "For i from 2 to n-1 do\n",
        "    If n mod i == 0 then\n",
        "        Output \"Not prime\" // n is divisible by i, so not prime\n",
        "        Stop\n",
        "\n",
        "Output \"Prime\" // no divisor found except 1 and n itself\n",
        "\n"
      ],
      "metadata": {
        "id": "tBWweTy5Vw7j"
      }
    },
    {
      "cell_type": "markdown",
      "source": [
        "Flowchart Outline\n",
        "Start\n",
        "Input number n\n",
        "Check if n ≤ 1 → Yes → Output \"Not prime\" → End\n",
        "Set i = 2\n",
        "Check if i ≤ sqrt(n)\n",
        "Yes → Check if n mod i == 0\n",
        "Yes → Output \"Not prime\" → End\n",
        "No → i = i + 1 → Repeat step 5\n",
        "No → Output \"Prime\" → End"
      ],
      "metadata": {
        "id": "8Gd9ooPFWk-f"
      }
    },
    {
      "cell_type": "markdown",
      "source": [
        "# Task 2: French Tax Deduction Rules\n"
      ],
      "metadata": {
        "id": "0H2x69RiWnL5"
      }
    },
    {
      "cell_type": "markdown",
      "source": [
        "Input: RFR (tax reference income), number_of_half_shares, expenses_home_help, expenses_childcare, expenses_energy_improvement\n",
        "\n",
        "// Rule 1: Check income threshold (assume a fixed limit e.g. limit_RFR)\n",
        "If RFR > limit_RFR\n",
        "    Output \"No tax reduction, income too high\"\n",
        "    Stop\n",
        "\n",
        "// Rule 2: Calculate max deduction by family quotient\n",
        "max_deduction = number_of_half_shares * 1759\n",
        "\n",
        "// Rule 3: Calculate credits from expenses\n",
        "credit_home_help = 0.5 * expenses_home_help\n",
        "credit_childcare = 0.5 * min(expenses_childcare, 3500)\n",
        "credit_energy = calculate_energy_credit(expenses_energy_improvement) // depends on specific program rules\n",
        "\n",
        "total_credits = credit_home_help + credit_childcare + credit_energy\n",
        "\n",
        "// Total deduction cannot exceed max_deduction\n",
        "if total_credits > max_deduction\n",
        "    total_credits = max_deduction\n",
        "\n",
        "Output \"Eligible tax credit: \", total_credits\n"
      ],
      "metadata": {
        "id": "IgONZJLdWrMq"
      }
    }
  ]
}