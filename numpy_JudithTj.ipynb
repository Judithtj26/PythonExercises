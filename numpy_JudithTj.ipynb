{
  "cells": [
    {
      "cell_type": "markdown",
      "metadata": {
        "id": "UVkSdJ1dkOCq"
      },
      "source": [
        "# Intrduction to NumPy\n",
        "\n",
        "\n",
        "#### 1. Import NumPy under the name np."
      ]
    },
    {
      "cell_type": "markdown",
      "source": [
        "Judith Torres Jiménez DSBI PGE 7"
      ],
      "metadata": {
        "id": "hgUx2y3gzE4v"
      }
    },
    {
      "cell_type": "code",
      "execution_count": 1,
      "metadata": {
        "id": "ZfjSSafnkOCs"
      },
      "outputs": [],
      "source": [
        "# your code here\n",
        "import numpy as np"
      ]
    },
    {
      "cell_type": "markdown",
      "metadata": {
        "id": "OmGC17PlkOCt"
      },
      "source": [
        "#### 2. Print your NumPy version."
      ]
    },
    {
      "cell_type": "code",
      "execution_count": 66,
      "metadata": {
        "colab": {
          "base_uri": "https://localhost:8080/",
          "height": 56
        },
        "id": "L6UMFQh4kOCt",
        "outputId": "3a089301-e2cc-4788-ad2d-4680b238cadf"
      },
      "outputs": [
        {
          "output_type": "execute_result",
          "data": {
            "text/plain": [
              "'2.0.2'"
            ],
            "application/vnd.google.colaboratory.intrinsic+json": {
              "type": "string"
            }
          },
          "metadata": {},
          "execution_count": 66
        }
      ],
      "source": [
        "# your code here\n",
        "np.__version__"
      ]
    },
    {
      "cell_type": "markdown",
      "metadata": {
        "id": "LgzG1OHckOCt"
      },
      "source": [
        "#### 3. Generate a 2x3x5 3-dimensional array with random values. Assign the array to variable *a*.\n",
        "**Challenge**: there are at least three easy ways that use numpy to generate random arrays. How many ways can you find?"
      ]
    },
    {
      "cell_type": "code",
      "execution_count": 67,
      "metadata": {
        "colab": {
          "base_uri": "https://localhost:8080/"
        },
        "id": "ZYkTSa2ikOCu",
        "outputId": "b2d2abe0-2072-40a5-fbfb-cc478560ca71"
      },
      "outputs": [
        {
          "output_type": "stream",
          "name": "stdout",
          "text": [
            "[[[0.79437299 0.80026612 0.45384412 0.85420942 0.81172417]\n",
            "  [0.5234846  0.32177354 0.9779729  0.95198851 0.20113473]\n",
            "  [0.99945064 0.59510453 0.58695947 0.43967231 0.17857562]]\n",
            "\n",
            " [[0.10698115 0.70639797 0.3916442  0.74672161 0.60019066]\n",
            "  [0.10942719 0.78848173 0.18870859 0.64756642 0.58590562]\n",
            "  [0.85547202 0.10174812 0.05781311 0.19599858 0.87410367]]]\n"
          ]
        }
      ],
      "source": [
        "# Method 1\n",
        "a = np.random.random((2,3,5))\n",
        "print(a)"
      ]
    },
    {
      "cell_type": "code",
      "execution_count": 68,
      "metadata": {
        "colab": {
          "base_uri": "https://localhost:8080/"
        },
        "id": "UAKrcFn6kOCu",
        "outputId": "f359c60b-391f-49a0-a138-0c5385c68577"
      },
      "outputs": [
        {
          "output_type": "stream",
          "name": "stdout",
          "text": [
            "[[[0.21696103 0.81880155 0.82422835 0.0509468  0.19096628]\n",
            "  [0.75231546 0.28111213 0.42367831 0.65436023 0.20851498]\n",
            "  [0.96718424 0.44696162 0.06031124 0.15639953 0.48560562]]\n",
            "\n",
            " [[0.67199308 0.79297694 0.99139769 0.75781874 0.17480666]\n",
            "  [0.06247591 0.44052898 0.38312065 0.18335037 0.34567058]\n",
            "  [0.96878562 0.40073    0.12333008 0.4127617  0.43735658]]]\n"
          ]
        }
      ],
      "source": [
        "# Method 2\n",
        "a = np.random.rand(2,3,5)\n",
        "print(a)\n"
      ]
    },
    {
      "cell_type": "code",
      "execution_count": 69,
      "metadata": {
        "colab": {
          "base_uri": "https://localhost:8080/"
        },
        "id": "SdmbGRh1kOCu",
        "outputId": "80a95200-71ed-4d09-b8a2-3554f5e7244c"
      },
      "outputs": [
        {
          "output_type": "stream",
          "name": "stdout",
          "text": [
            "[[[ 0.59024771 -0.28434294 -0.15364789 -0.97788497 -1.20195488]\n",
            "  [ 0.20848047  0.08231027 -1.48962827 -1.61046271 -0.37624165]\n",
            "  [ 0.3274095  -0.34892863 -0.65209425  0.20722593  0.0108311 ]]\n",
            "\n",
            " [[ 0.24662377 -0.58299637 -0.05176156 -0.14197112 -0.26264062]\n",
            "  [-0.92881063 -0.18750058 -1.00077603  0.22358773  0.63361793]\n",
            "  [ 0.23889815  0.80445073  0.50997045  0.74458254  0.18072313]]]\n"
          ]
        }
      ],
      "source": [
        "# Method 3\n",
        "a = np.random.randn(2,3,5)\n",
        "print(a)"
      ]
    },
    {
      "cell_type": "markdown",
      "metadata": {
        "id": "2GBU5vDJkOCv"
      },
      "source": [
        "#### 4. Print *a*.\n"
      ]
    },
    {
      "cell_type": "code",
      "execution_count": 70,
      "metadata": {
        "colab": {
          "base_uri": "https://localhost:8080/"
        },
        "id": "o6oE21z8kOCv",
        "outputId": "3f403d56-0e38-4645-e5d5-4776733f3fdc"
      },
      "outputs": [
        {
          "output_type": "stream",
          "name": "stdout",
          "text": [
            "[[[ 0.59024771 -0.28434294 -0.15364789 -0.97788497 -1.20195488]\n",
            "  [ 0.20848047  0.08231027 -1.48962827 -1.61046271 -0.37624165]\n",
            "  [ 0.3274095  -0.34892863 -0.65209425  0.20722593  0.0108311 ]]\n",
            "\n",
            " [[ 0.24662377 -0.58299637 -0.05176156 -0.14197112 -0.26264062]\n",
            "  [-0.92881063 -0.18750058 -1.00077603  0.22358773  0.63361793]\n",
            "  [ 0.23889815  0.80445073  0.50997045  0.74458254  0.18072313]]]\n"
          ]
        }
      ],
      "source": [
        "# your code here\n",
        "print(a)"
      ]
    },
    {
      "cell_type": "markdown",
      "metadata": {
        "id": "YzOcdR5dkOCv"
      },
      "source": [
        "#### 5. Create a 5x2x3 3-dimensional array with all values equaling 1. Assign the array to variable *b*."
      ]
    },
    {
      "cell_type": "code",
      "execution_count": 71,
      "metadata": {
        "id": "p7MWZs_-kOCw"
      },
      "outputs": [],
      "source": [
        "# your code here\n",
        "b = np.ones((5,2,3))"
      ]
    },
    {
      "cell_type": "markdown",
      "metadata": {
        "id": "xz95xqVMkOCw"
      },
      "source": [
        "#### 6. Print *b*.\n"
      ]
    },
    {
      "cell_type": "code",
      "execution_count": 72,
      "metadata": {
        "colab": {
          "base_uri": "https://localhost:8080/"
        },
        "id": "XCd8MGmQkOCx",
        "outputId": "888f4c59-2a7c-46e7-8df4-2e781e1a8891"
      },
      "outputs": [
        {
          "output_type": "stream",
          "name": "stdout",
          "text": [
            "[[[1. 1. 1.]\n",
            "  [1. 1. 1.]]\n",
            "\n",
            " [[1. 1. 1.]\n",
            "  [1. 1. 1.]]\n",
            "\n",
            " [[1. 1. 1.]\n",
            "  [1. 1. 1.]]\n",
            "\n",
            " [[1. 1. 1.]\n",
            "  [1. 1. 1.]]\n",
            "\n",
            " [[1. 1. 1.]\n",
            "  [1. 1. 1.]]]\n"
          ]
        }
      ],
      "source": [
        "# your code here\n",
        "print(b)"
      ]
    },
    {
      "cell_type": "markdown",
      "metadata": {
        "id": "dxcvDyqKkOCx"
      },
      "source": [
        "#### 7. Do *a* and *b* have the same size? How do you prove that in Python code?"
      ]
    },
    {
      "cell_type": "code",
      "execution_count": 73,
      "metadata": {
        "colab": {
          "base_uri": "https://localhost:8080/"
        },
        "id": "noD3dpJikOCx",
        "outputId": "a06a3542-fb33-4782-a180-56603b5f4af3"
      },
      "outputs": [
        {
          "output_type": "execute_result",
          "data": {
            "text/plain": [
              "True"
            ]
          },
          "metadata": {},
          "execution_count": 73
        }
      ],
      "source": [
        "# your code here\n",
        "a.size == b.size"
      ]
    },
    {
      "cell_type": "markdown",
      "metadata": {
        "id": "YHjVYNkkkOCy"
      },
      "source": [
        "#### 8. Are you able to add *a* and *b*? Why or why not?\n"
      ]
    },
    {
      "cell_type": "code",
      "execution_count": 74,
      "metadata": {
        "colab": {
          "base_uri": "https://localhost:8080/",
          "height": 206
        },
        "id": "xOQOSLTQkOCy",
        "outputId": "f0b1f372-eead-41e1-fa55-2b9e1a79805e"
      },
      "outputs": [
        {
          "output_type": "error",
          "ename": "ValueError",
          "evalue": "operands could not be broadcast together with shapes (2,3,5) (5,2,3) ",
          "traceback": [
            "\u001b[0;31m---------------------------------------------------------------------------\u001b[0m",
            "\u001b[0;31mValueError\u001b[0m                                Traceback (most recent call last)",
            "\u001b[0;32m/tmp/ipython-input-74-1313214180.py\u001b[0m in \u001b[0;36m<cell line: 0>\u001b[0;34m()\u001b[0m\n\u001b[1;32m      1\u001b[0m \u001b[0;31m# your answer here\u001b[0m\u001b[0;34m\u001b[0m\u001b[0;34m\u001b[0m\u001b[0m\n\u001b[1;32m      2\u001b[0m \u001b[0;31m# No, because they have the same size but not the same shape\u001b[0m\u001b[0;34m\u001b[0m\u001b[0;34m\u001b[0m\u001b[0m\n\u001b[0;32m----> 3\u001b[0;31m \u001b[0mz\u001b[0m \u001b[0;34m=\u001b[0m \u001b[0ma\u001b[0m \u001b[0;34m+\u001b[0m \u001b[0mb\u001b[0m\u001b[0;34m\u001b[0m\u001b[0;34m\u001b[0m\u001b[0m\n\u001b[0m\u001b[1;32m      4\u001b[0m \u001b[0mz\u001b[0m\u001b[0;34m\u001b[0m\u001b[0;34m\u001b[0m\u001b[0m\n",
            "\u001b[0;31mValueError\u001b[0m: operands could not be broadcast together with shapes (2,3,5) (5,2,3) "
          ]
        }
      ],
      "source": [
        "# your answer here\n",
        "# No, because they have the same size but not the same shape\n",
        "z = a + b\n",
        "z"
      ]
    },
    {
      "cell_type": "markdown",
      "metadata": {
        "id": "jMz4gE1ukOCy"
      },
      "source": [
        "#### 9. Transpose *b* so that it has the same structure of *a* (i.e. become a 2x3x5 array). Assign the transposed array to variable *c*."
      ]
    },
    {
      "cell_type": "code",
      "execution_count": 75,
      "metadata": {
        "id": "8LaKNxfWkOCy"
      },
      "outputs": [],
      "source": [
        "# your code here\n",
        "c = b.reshape(2,3,5)"
      ]
    },
    {
      "cell_type": "markdown",
      "metadata": {
        "id": "SKs04n1LkOCz"
      },
      "source": [
        "#### 10. Try to add *a* and *c*. Now it should work. Assign the sum to variable *d*. But why does it work now?"
      ]
    },
    {
      "cell_type": "code",
      "execution_count": 77,
      "metadata": {
        "colab": {
          "base_uri": "https://localhost:8080/"
        },
        "id": "kq4NN6jMkOCz",
        "outputId": "3e9fb8e9-7410-4819-f0df-f83cbe3dd229"
      },
      "outputs": [
        {
          "output_type": "stream",
          "name": "stdout",
          "text": [
            "[[[ 1.59024771e+00  7.15657062e-01  8.46352108e-01  2.21150318e-02\n",
            "   -2.01954885e-01]\n",
            "  [ 1.20848047e+00  1.08231027e+00 -4.89628271e-01 -6.10462707e-01\n",
            "    6.23758351e-01]\n",
            "  [ 1.32740950e+00  6.51071366e-01  3.47905748e-01  1.20722593e+00\n",
            "    1.01083110e+00]]\n",
            "\n",
            " [[ 1.24662377e+00  4.17003627e-01  9.48238438e-01  8.58028879e-01\n",
            "    7.37359377e-01]\n",
            "  [ 7.11893670e-02  8.12499420e-01 -7.76026168e-04  1.22358773e+00\n",
            "    1.63361793e+00]\n",
            "  [ 1.23889815e+00  1.80445073e+00  1.50997045e+00  1.74458254e+00\n",
            "    1.18072313e+00]]]\n"
          ]
        }
      ],
      "source": [
        "# your code/ Now it works because they have the same shape and you can add them\n",
        "d = a + c\n",
        "print(d)"
      ]
    },
    {
      "cell_type": "markdown",
      "metadata": {
        "id": "b76JPwjDkOCz"
      },
      "source": [
        "#### 11. Print *a* and *d*. Notice the difference and relation of the two array in terms of the values? Explain."
      ]
    },
    {
      "cell_type": "code",
      "execution_count": 78,
      "metadata": {
        "colab": {
          "base_uri": "https://localhost:8080/"
        },
        "id": "TskwHEkukOCz",
        "outputId": "52fa38ab-fb70-4c67-9f87-a211b68f1e7d"
      },
      "outputs": [
        {
          "output_type": "stream",
          "name": "stdout",
          "text": [
            "[[[ 0.59024771 -0.28434294 -0.15364789 -0.97788497 -1.20195488]\n",
            "  [ 0.20848047  0.08231027 -1.48962827 -1.61046271 -0.37624165]\n",
            "  [ 0.3274095  -0.34892863 -0.65209425  0.20722593  0.0108311 ]]\n",
            "\n",
            " [[ 0.24662377 -0.58299637 -0.05176156 -0.14197112 -0.26264062]\n",
            "  [-0.92881063 -0.18750058 -1.00077603  0.22358773  0.63361793]\n",
            "  [ 0.23889815  0.80445073  0.50997045  0.74458254  0.18072313]]]\n",
            "[[[ 1.59024771e+00  7.15657062e-01  8.46352108e-01  2.21150318e-02\n",
            "   -2.01954885e-01]\n",
            "  [ 1.20848047e+00  1.08231027e+00 -4.89628271e-01 -6.10462707e-01\n",
            "    6.23758351e-01]\n",
            "  [ 1.32740950e+00  6.51071366e-01  3.47905748e-01  1.20722593e+00\n",
            "    1.01083110e+00]]\n",
            "\n",
            " [[ 1.24662377e+00  4.17003627e-01  9.48238438e-01  8.58028879e-01\n",
            "    7.37359377e-01]\n",
            "  [ 7.11893670e-02  8.12499420e-01 -7.76026168e-04  1.22358773e+00\n",
            "    1.63361793e+00]\n",
            "  [ 1.23889815e+00  1.80445073e+00  1.50997045e+00  1.74458254e+00\n",
            "    1.18072313e+00]]]\n"
          ]
        }
      ],
      "source": [
        "# your code/ They have the same shape, but the values in d are 1 value bigger.\n",
        "print(a)\n",
        "print(d)"
      ]
    },
    {
      "cell_type": "markdown",
      "metadata": {
        "id": "jh1YBVg6kOC0"
      },
      "source": [
        "#### 12. Multiply *a* and *c*. Assign the result to *e*."
      ]
    },
    {
      "cell_type": "code",
      "execution_count": 79,
      "metadata": {
        "colab": {
          "base_uri": "https://localhost:8080/"
        },
        "id": "dZpbY_pgkOC0",
        "outputId": "5664acdc-241f-4c34-e2cd-d5cab857b839"
      },
      "outputs": [
        {
          "output_type": "stream",
          "name": "stdout",
          "text": [
            "[[[ 0.59024771 -0.28434294 -0.15364789 -0.97788497 -1.20195488]\n",
            "  [ 0.20848047  0.08231027 -1.48962827 -1.61046271 -0.37624165]\n",
            "  [ 0.3274095  -0.34892863 -0.65209425  0.20722593  0.0108311 ]]\n",
            "\n",
            " [[ 0.24662377 -0.58299637 -0.05176156 -0.14197112 -0.26264062]\n",
            "  [-0.92881063 -0.18750058 -1.00077603  0.22358773  0.63361793]\n",
            "  [ 0.23889815  0.80445073  0.50997045  0.74458254  0.18072313]]]\n"
          ]
        }
      ],
      "source": [
        "# your code here\n",
        "e = a * c\n",
        "print(e)"
      ]
    },
    {
      "cell_type": "markdown",
      "metadata": {
        "id": "MHvN2XgekOC0"
      },
      "source": [
        "#### 13. Does *e* equal to *a*? Why or why not?\n"
      ]
    },
    {
      "cell_type": "code",
      "execution_count": 80,
      "metadata": {
        "id": "fgcm5ZXjkOC0",
        "colab": {
          "base_uri": "https://localhost:8080/"
        },
        "outputId": "c29129ce-b7ad-464b-ef30-78e18c68481d"
      },
      "outputs": [
        {
          "output_type": "execute_result",
          "data": {
            "text/plain": [
              "array([[[ True,  True,  True,  True,  True],\n",
              "        [ True,  True,  True,  True,  True],\n",
              "        [ True,  True,  True,  True,  True]],\n",
              "\n",
              "       [[ True,  True,  True,  True,  True],\n",
              "        [ True,  True,  True,  True,  True],\n",
              "        [ True,  True,  True,  True,  True]]])"
            ]
          },
          "metadata": {},
          "execution_count": 80
        }
      ],
      "source": [
        "# your code/ Yes they are, because e[i][j][k] = a[i][j][k] and because before we multiplied a*1\n",
        "e == a\n"
      ]
    },
    {
      "cell_type": "markdown",
      "metadata": {
        "id": "lWAZVtMHkOC0"
      },
      "source": [
        "#### 14. Identify the max, min, and mean values in *d*. Assign those values to variables *d_max*, *d_min* and *d_mean*."
      ]
    },
    {
      "cell_type": "code",
      "execution_count": 81,
      "metadata": {
        "id": "y-0Jlm_TkOC0",
        "colab": {
          "base_uri": "https://localhost:8080/"
        },
        "outputId": "7b831e11-e713-420f-b321-ce8c766daf5d"
      },
      "outputs": [
        {
          "output_type": "stream",
          "name": "stdout",
          "text": [
            "1.8044507345594658 -0.6104627073743281 0.8252438761298707\n"
          ]
        }
      ],
      "source": [
        "# your code here\n",
        "d_max = d.max()\n",
        "d_min = d.min()\n",
        "d_mean = d.mean()\n",
        "print(d_max, d_min, d_mean)"
      ]
    },
    {
      "cell_type": "markdown",
      "metadata": {
        "id": "h4dhT6ynkOC1"
      },
      "source": [
        "#### 15. Now we want to label the values in *d*. First create an empty array *f* with the same shape (i.e. 2x3x5) as *d* using `np.empty`.\n"
      ]
    },
    {
      "cell_type": "code",
      "execution_count": 82,
      "metadata": {
        "id": "RdoR-P-RkOC1"
      },
      "outputs": [],
      "source": [
        "# your code here\n",
        "f = np.empty((2,3,5))"
      ]
    },
    {
      "cell_type": "markdown",
      "metadata": {
        "id": "C9xXjiyXkOC1"
      },
      "source": [
        "#### 16. Populate the values in *f*.\n",
        "\n",
        "For each value in *d*, if it's larger than *d_min* but smaller than *d_mean*, assign 25 to the corresponding value in *f*. If a value in *d* is larger than *d_mean* but smaller than *d_max*, assign 75 to the corresponding value in *f*. If a value equals to *d_mean*, assign 50 to the corresponding value in *f*. Assign 0 to the corresponding value(s) in *f* for *d_min* in *d*. Assign 100 to the corresponding value(s) in *f* for *d_max* in *d*. In the end, f should have only the following values: 0, 25, 50, 75, and 100.\n",
        "\n",
        "**Note**: you don't have to use Numpy in this question."
      ]
    },
    {
      "cell_type": "code",
      "execution_count": 83,
      "metadata": {
        "id": "79PoSZUdkOC1"
      },
      "outputs": [],
      "source": [
        "f[d == d_min] = 0\n",
        "f[(d > d_min) & (d < d_mean)] = 25\n",
        "f[d == d_mean] = 50\n",
        "f[(d > d_mean) & (d < d_max)] = 75\n",
        "f[d == d_max] = 100\n"
      ]
    },
    {
      "cell_type": "markdown",
      "metadata": {
        "id": "wxVj56amkOC2"
      },
      "source": [
        "#### 17. Print *d* and *f*. Do you have your expected *f*?\n",
        "For instance, if your *d* is:\n",
        "```python\n",
        "[[[1.85836099, 1.67064465, 1.62576044, 1.40243961, 1.88454931],\n",
        "[1.75354326, 1.69403643, 1.36729252, 1.61415071, 1.12104981],\n",
        "[1.72201435, 1.1862918 , 1.87078449, 1.7726778 , 1.88180042]],\n",
        "[[1.44747908, 1.31673383, 1.02000951, 1.52218947, 1.97066381],\n",
        "[1.79129243, 1.74983003, 1.96028037, 1.85166831, 1.65450881],\n",
        "[1.18068344, 1.9587381 , 1.00656599, 1.93402165, 1.73514584]]]\n",
        "```\n",
        "Your *f* should be:\n",
        "```python\n",
        "[[[ 75.,  75.,  75.,  25.,  75.],\n",
        "[ 75.,  75.,  25.,  25.,  25.],\n",
        "[ 75.,  25.,  75.,  75.,  75.]],\n",
        "[[ 25.,  25.,  25.,  25., 100.],\n",
        "[ 75.,  75.,  75.,  75.,  75.],\n",
        "[ 25.,  75.,   0.,  75.,  75.]]]\n",
        "```"
      ]
    },
    {
      "cell_type": "code",
      "execution_count": 84,
      "metadata": {
        "id": "OiD4CVZekOC2",
        "colab": {
          "base_uri": "https://localhost:8080/"
        },
        "outputId": "c399b45a-bc15-4e15-d143-b1b29e7ff4c8"
      },
      "outputs": [
        {
          "output_type": "stream",
          "name": "stdout",
          "text": [
            "[[[ 1.59024771e+00  7.15657062e-01  8.46352108e-01  2.21150318e-02\n",
            "   -2.01954885e-01]\n",
            "  [ 1.20848047e+00  1.08231027e+00 -4.89628271e-01 -6.10462707e-01\n",
            "    6.23758351e-01]\n",
            "  [ 1.32740950e+00  6.51071366e-01  3.47905748e-01  1.20722593e+00\n",
            "    1.01083110e+00]]\n",
            "\n",
            " [[ 1.24662377e+00  4.17003627e-01  9.48238438e-01  8.58028879e-01\n",
            "    7.37359377e-01]\n",
            "  [ 7.11893670e-02  8.12499420e-01 -7.76026168e-04  1.22358773e+00\n",
            "    1.63361793e+00]\n",
            "  [ 1.23889815e+00  1.80445073e+00  1.50997045e+00  1.74458254e+00\n",
            "    1.18072313e+00]]]\n",
            "[[[ 75.  25.  75.  25.  25.]\n",
            "  [ 75.  75.  25.   0.  25.]\n",
            "  [ 75.  25.  25.  75.  75.]]\n",
            "\n",
            " [[ 75.  25.  75.  75.  25.]\n",
            "  [ 25.  25.  25.  75.  75.]\n",
            "  [ 75. 100.  75.  75.  75.]]]\n"
          ]
        }
      ],
      "source": [
        "# your code here\n",
        "print(d)\n",
        "print(f)"
      ]
    },
    {
      "cell_type": "markdown",
      "metadata": {
        "id": "LgNwzHAIkOC2"
      },
      "source": [
        "#### 18. Bonus question: instead of using numbers (i.e. 0, 25, 50, 75, and 100), use string values  (\"A\", \"B\", \"C\", \"D\", and \"E\") to label the array elements. For the example above, the expected result is:\n",
        "\n",
        "```python\n",
        "[[[ 'D',  'D',  'D',  'B',  'D'],\n",
        "[ 'D',  'D',  'B',  'B',  'B'],\n",
        "[ 'D',  'B',  'D',  'D',  'D']],\n",
        "[[ 'B',  'B',  'B',  'B',  'E'],\n",
        "[ 'D',  'D',  'D',  'D',  'D'],\n",
        "[ 'B',  'D',   'A',  'D', 'D']]]\n",
        "```\n",
        "**Note**: you don't have to use Numpy in this question."
      ]
    },
    {
      "cell_type": "code",
      "execution_count": 90,
      "metadata": {
        "id": "BTvgQDSFkOC2",
        "colab": {
          "base_uri": "https://localhost:8080/"
        },
        "outputId": "24dd97aa-ae15-4435-f19c-b5a8548f8bbf"
      },
      "outputs": [
        {
          "output_type": "stream",
          "name": "stdout",
          "text": [
            "[[['D' 'B' 'D' 'B' 'B']\n",
            "  ['D' 'D' 'B' 'A' 'B']\n",
            "  ['D' 'B' 'B' 'D' 'D']]\n",
            "\n",
            " [['D' 'B' 'D' 'D' 'B']\n",
            "  ['B' 'B' 'B' 'D' 'D']\n",
            "  ['D' 'E' 'D' 'D' 'D']]]\n"
          ]
        }
      ],
      "source": [
        "# your code here\n",
        "f_labels = np.empty_like(d, dtype=str)\n",
        "f_labels[d == d_min] = \"A\"\n",
        "f_labels[(d > d_min) & (d < d_mean)] = \"B\"\n",
        "f_labels[d == d_mean] = \"C\"\n",
        "f_labels[(d > d_mean) & (d < d_max)] = \"D\"\n",
        "f_labels[d == d_max] = \"E\"\n",
        "\n",
        "print(f_labels)"
      ]
    }
  ],
  "metadata": {
    "kernelspec": {
      "display_name": "Python 3",
      "language": "python",
      "name": "python3"
    },
    "language_info": {
      "codemirror_mode": {
        "name": "ipython",
        "version": 3
      },
      "file_extension": ".py",
      "mimetype": "text/x-python",
      "name": "python",
      "nbconvert_exporter": "python",
      "pygments_lexer": "ipython3",
      "version": "3.7.2"
    },
    "colab": {
      "provenance": []
    }
  },
  "nbformat": 4,
  "nbformat_minor": 0
}