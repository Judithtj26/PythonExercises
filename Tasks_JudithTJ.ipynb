{
  "nbformat": 4,
  "nbformat_minor": 0,
  "metadata": {
    "colab": {
      "provenance": []
    },
    "kernelspec": {
      "name": "python3",
      "display_name": "Python 3"
    },
    "language_info": {
      "name": "python"
    }
  },
  "cells": [
    {
      "cell_type": "markdown",
      "source": [
        "Tasks 23/06/2025\n",
        "Judith Torres Jiménez"
      ],
      "metadata": {
        "id": "9cIRyW5LG-4k"
      }
    },
    {
      "cell_type": "code",
      "execution_count": null,
      "metadata": {
        "colab": {
          "base_uri": "https://localhost:8080/"
        },
        "id": "UDrcP4rtG7t2",
        "outputId": "2428adbc-88e9-4c15-c799-88d1a8bc8d7d"
      },
      "outputs": [
        {
          "output_type": "stream",
          "name": "stdout",
          "text": [
            "4 hours is 14400 seconds.\n"
          ]
        }
      ],
      "source": [
        "def hours_to_seconds(hours):\n",
        "    return hours * 3600\n",
        "\n",
        "hours = 4\n",
        "seconds = hours_to_seconds(hours)\n",
        "print(f\"{hours} hours is {seconds} seconds.\")"
      ]
    },
    {
      "cell_type": "code",
      "source": [
        "def numbers_list (numbers):\n",
        "    return [num ** 2 for num in numbers]\n",
        "\n",
        "original_list = [1, 2, 3, 4, 5]\n",
        "squared_list = numbers_list(original_list)\n",
        "print(f\"Original list: {original_list}\")\n",
        "print(f\"Squared list: {squared_list}\")"
      ],
      "metadata": {
        "colab": {
          "base_uri": "https://localhost:8080/"
        },
        "id": "N3KPd__bH53n",
        "outputId": "51cee369-4a80-4b39-98f0-446793664f71"
      },
      "execution_count": null,
      "outputs": [
        {
          "output_type": "stream",
          "name": "stdout",
          "text": [
            "Original list: [1, 2, 3, 4, 5]\n",
            "Squared list: [1, 4, 9, 16, 25]\n"
          ]
        }
      ]
    },
    {
      "cell_type": "code",
      "source": [
        "s1 = 2\n",
        "s2 = 4\n",
        "\n",
        "def new_string(s1,s2):\n",
        "    s3 = \"\"\n",
        "    length = min(len(s1), len(s2))\n",
        "\n",
        "    for i in range(length):\n",
        "        s3 += s1[i] + s2[-(i + 1)]\n",
        "\n",
        "    if len(s1) > length:\n",
        "        s3 += s1[length:]\n",
        "    if len(s2) > length:\n",
        "        s3 += s2[:-(length + 1):-1]  # Remaining reversed part of s2\n",
        "\n",
        "    return s3\n",
        "\n",
        "s1 = \"Hello\"\n",
        "s2 = \"World\"\n",
        "s3 = new_string(s1, s2)\n",
        "print(f\"s1: {s1}\")\n",
        "print(f\"s2: {s2}\")\n",
        "print(f\"s3: {s3}\")"
      ],
      "metadata": {
        "colab": {
          "base_uri": "https://localhost:8080/"
        },
        "id": "GzD7uj0cITqE",
        "outputId": "c831967c-40dc-40fc-a56c-eb6530e9fdb4"
      },
      "execution_count": null,
      "outputs": [
        {
          "output_type": "stream",
          "name": "stdout",
          "text": [
            "s1: Hello\n",
            "s2: World\n",
            "s3: HdellrlooW\n"
          ]
        }
      ]
    },
    {
      "cell_type": "code",
      "source": [
        "def key_minimum_value(dictionary):\n",
        "\n",
        "    if not dictionary:\n",
        "        return None  # Return None if the dictionary is empty\n",
        "\n",
        "    return min(dictionary, key=dictionary.get)\n",
        "\n",
        "sample = {'a': 10, 'b': 3, 'c': 8}\n",
        "min_key = key_minimum_value(sample)\n",
        "print(min_key)"
      ],
      "metadata": {
        "colab": {
          "base_uri": "https://localhost:8080/"
        },
        "id": "iX7hpQWBJc_D",
        "outputId": "f93e0d8a-cfb4-47dc-e9a2-b56afa345e51"
      },
      "execution_count": null,
      "outputs": [
        {
          "output_type": "stream",
          "name": "stdout",
          "text": [
            "b\n"
          ]
        }
      ]
    },
    {
      "cell_type": "code",
      "source": [
        "def sum_series(n):\n",
        "    total = 0\n",
        "    term = 0\n",
        "\n",
        "    for i in range(1, n + 1):\n",
        "        term = term * 10 + 1\n",
        "        total += term\n",
        "\n",
        "    return total\n",
        "\n",
        "n = 3\n",
        "result = sum_series(n)\n",
        "print(result)"
      ],
      "metadata": {
        "colab": {
          "base_uri": "https://localhost:8080/"
        },
        "id": "WR5quxCkJ1l_",
        "outputId": "4ec60511-32d0-4930-b7a9-57092b64517b"
      },
      "execution_count": null,
      "outputs": [
        {
          "output_type": "stream",
          "name": "stdout",
          "text": [
            "123\n"
          ]
        }
      ]
    },
    {
      "cell_type": "code",
      "source": [
        "import random\n",
        "\n",
        "def multiplication():\n",
        "    num1 = random.uniform(0.0, 10.0)  # random number between 0 and 5\n",
        "    num2 = random.uniform(0.0, 10.0)  # between 0 and 10\n",
        "    result = num1 * num2\n",
        "\n",
        "    print(num1)\n",
        "    print(num2)\n",
        "    print(result)\n",
        "\n",
        "multiplication()"
      ],
      "metadata": {
        "colab": {
          "base_uri": "https://localhost:8080/"
        },
        "id": "WFom88TbKrsU",
        "outputId": "c71e717f-5ecf-4f2d-c84a-5e4020033650"
      },
      "execution_count": null,
      "outputs": [
        {
          "output_type": "stream",
          "name": "stdout",
          "text": [
            "1.7497553181720493\n",
            "7.127615222882584\n",
            "12.471582642122858\n"
          ]
        }
      ]
    }
  ]
}