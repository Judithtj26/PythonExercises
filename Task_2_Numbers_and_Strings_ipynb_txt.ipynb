{
  "cells": [
    {
      "cell_type": "markdown",
      "source": [
        "**DSBI PGE Judith Torres Jiménez**\n",
        "\n"
      ],
      "metadata": {
        "id": "XqKk09Y92PUS"
      }
    },
    {
      "cell_type": "markdown",
      "metadata": {
        "id": "UV5I5dJUzwV7"
      },
      "source": [
        "# Session 1\n",
        "- Happy learning!"
      ]
    },
    {
      "cell_type": "markdown",
      "metadata": {
        "id": "g9euvZVozwV9"
      },
      "source": [
        "## Challenge 1 - Numbers"
      ]
    },
    {
      "cell_type": "markdown",
      "metadata": {
        "id": "Xq3fYLH8zwV9"
      },
      "source": [
        "### Take two numbers and compute the power (a^b) and modulus (a % b)."
      ]
    },
    {
      "cell_type": "code",
      "execution_count": null,
      "metadata": {
        "colab": {
          "base_uri": "https://localhost:8080/"
        },
        "id": "tBtGrBnQzwV-",
        "outputId": "09b9499b-5225-4e48-d0d5-fdfba49a5790"
      },
      "outputs": [
        {
          "output_type": "stream",
          "name": "stdout",
          "text": [
            "16\n",
            "2\n"
          ]
        }
      ],
      "source": [
        "x = 2\n",
        "y = 4\n",
        "\n",
        "x_power_y = x**y\n",
        "x_mod_y = x%y\n",
        "\n",
        "print(x_power_y)\n",
        "print(x_mod_y)"
      ]
    },
    {
      "cell_type": "markdown",
      "metadata": {
        "id": "e4P2lDsrzwV_"
      },
      "source": [
        "### Show the difference between // and / using user input."
      ]
    },
    {
      "cell_type": "code",
      "execution_count": null,
      "metadata": {
        "colab": {
          "base_uri": "https://localhost:8080/"
        },
        "id": "2h-njXiLzwV_",
        "outputId": "b9582716-730e-4033-f493-1475a35c7986"
      },
      "outputs": [
        {
          "output_type": "stream",
          "name": "stdout",
          "text": [
            "Write a number: 4\n",
            "Write another number: 8\n",
            "0\n",
            "0.5\n"
          ]
        }
      ],
      "source": [
        "y = int(input(\"Write a number: \"))\n",
        "x = int(input(\"Write another number: \"))\n",
        "\n",
        "print(y//x)\n",
        "print(y/x)"
      ]
    },
    {
      "cell_type": "markdown",
      "metadata": {
        "id": "-B5Fs6sBzwV_"
      },
      "source": [
        "### Bitwise Operator Practice\n",
        "Use &, |, ^, ~, <<, and >> on two integers and display the results."
      ]
    },
    {
      "cell_type": "code",
      "execution_count": null,
      "metadata": {
        "colab": {
          "base_uri": "https://localhost:8080/"
        },
        "id": "xSqLHOhxzwWA",
        "outputId": "0ab03d17-6263-48f9-ae17-5049c0adccd7"
      },
      "outputs": [
        {
          "output_type": "stream",
          "name": "stdout",
          "text": [
            "4\n",
            "5\n",
            "1\n",
            "-5\n",
            "128\n",
            "0\n"
          ]
        }
      ],
      "source": [
        "j = 4\n",
        "k = 5\n",
        "\n",
        "print(j&k)\n",
        "print(j|k)\n",
        "print(j^k)\n",
        "print(~j)\n",
        "print(j<<k)\n",
        "print(j>>k)"
      ]
    },
    {
      "cell_type": "markdown",
      "metadata": {
        "id": "-zcEfoxdzwWA"
      },
      "source": [
        "### Round Up, Down, and Nearest Integer\n",
        "Use math.floor(), math.ceil(), and round() on a floating point number.\n",
        "\n"
      ]
    },
    {
      "cell_type": "code",
      "execution_count": null,
      "metadata": {
        "colab": {
          "base_uri": "https://localhost:8080/"
        },
        "id": "-IHg8pJ9zwWA",
        "outputId": "faf16bb3-7f78-4011-9047-b4c7f16f45da"
      },
      "outputs": [
        {
          "output_type": "execute_result",
          "data": {
            "text/plain": [
              "2"
            ]
          },
          "metadata": {},
          "execution_count": 8
        }
      ],
      "source": [
        "import math\n",
        "\n",
        "math.floor(2.3)\n",
        "math.ceil(2.3)\n",
        "round(2.3)"
      ]
    },
    {
      "cell_type": "markdown",
      "metadata": {
        "id": "gnimrweDzwWB"
      },
      "source": [
        "## Challenge 2 -  Strings\n",
        "\n",
        "Combining strings is an important skill to acquire. There are multiple ways of combining strings in Python, as well as combining strings with variables."
      ]
    },
    {
      "cell_type": "markdown",
      "metadata": {
        "id": "kWY7pKQyzwWB"
      },
      "source": [
        "### In the cell below, combine the strings in the list and add spaces between the strings (do not add a space after the last string). Insert a period after the last string."
      ]
    },
    {
      "cell_type": "code",
      "execution_count": null,
      "metadata": {
        "colab": {
          "base_uri": "https://localhost:8080/"
        },
        "id": "783uFF5NzwWB",
        "outputId": "dd58ec4c-8118-49e2-853a-8106b84837e8"
      },
      "outputs": [
        {
          "output_type": "stream",
          "name": "stdout",
          "text": [
            "Data are just summaries of thousands of stories — tell a few of those stories to help make the data meaningful .\n"
          ]
        }
      ],
      "source": [
        "str_list = ['Data', 'are', 'just', 'summaries', 'of', 'thousands', 'of', 'stories', '—','tell', 'a', 'few', 'of', 'those', 'stories', 'to',  'help', 'make', 'the', 'data', 'meaningful','.']\n",
        "\n",
        "\n",
        "str_list = ' '.join(str_list)\n",
        "print(str_list)"
      ]
    },
    {
      "cell_type": "markdown",
      "metadata": {
        "id": "t3xESWWXzwWC"
      },
      "source": [
        "In the cell below, use the list of strings to create a grocery list. Start the list with the string `Grocery list: ` and include a comma and a space between each item except for the last one. Include a period at the end. Only include foods in the list that start with the letter 'b' and ensure all foods are lower case."
      ]
    },
    {
      "cell_type": "code",
      "execution_count": null,
      "metadata": {
        "colab": {
          "base_uri": "https://localhost:8080/"
        },
        "id": "z53jUiXizwWC",
        "outputId": "b3a8bae5-5bfd-40b9-daad-a7599c6cbe30"
      },
      "outputs": [
        {
          "output_type": "stream",
          "name": "stdout",
          "text": [
            "Bananas\n",
            "bread\n",
            "Brownie Mix\n",
            "broccoli\n"
          ]
        }
      ],
      "source": [
        "food_list = ['Bananas', 'Chocolate', 'bread', 'diapers', 'Ice Cream', 'Brownie Mix', 'broccoli']\n",
        "# Your code here:\n",
        "\n",
        "grocery_list = [\"Grocery List:\"]\n",
        "for i in food_list:\n",
        "  if i.startswith(\"b\") or i.startswith(\"B\"):\n",
        "    print(i)\n"
      ]
    },
    {
      "cell_type": "markdown",
      "metadata": {
        "id": "qhnT6J8zzwWC"
      },
      "source": [
        "### Splitting Strings\n",
        "\n",
        "We have first looked at combining strings into one long string. There are times where we need to do the opposite and split the string into smaller components for further analysis.\n",
        "\n",
        "In the cell below, split the string into a list of strings using the space delimiter. Count the frequency of each word in the string in a dictionary. Strip the periods, line breaks and commas from the text. Make sure to remove empty strings from your dictionary."
      ]
    },
    {
      "cell_type": "code",
      "execution_count": null,
      "metadata": {
        "colab": {
          "base_uri": "https://localhost:8080/"
        },
        "id": "AvGIf0qHzwWD",
        "outputId": "9bb7444c-f784-4acf-c418-1ba70d627384"
      },
      "outputs": [
        {
          "output_type": "execute_result",
          "data": {
            "text/plain": [
              "['Some',\n",
              " 'say',\n",
              " 'the',\n",
              " 'world',\n",
              " 'will',\n",
              " 'end',\n",
              " 'in',\n",
              " 'fire,',\n",
              " 'Some',\n",
              " 'say',\n",
              " 'in',\n",
              " 'ice.',\n",
              " 'From',\n",
              " 'what',\n",
              " 'I’ve',\n",
              " 'tasted',\n",
              " 'of',\n",
              " 'desire',\n",
              " 'I',\n",
              " 'hold',\n",
              " 'with',\n",
              " 'those',\n",
              " 'who',\n",
              " 'favor',\n",
              " 'fire.',\n",
              " 'But',\n",
              " 'if',\n",
              " 'it',\n",
              " 'had',\n",
              " 'to',\n",
              " 'perish',\n",
              " 'twice,',\n",
              " 'I',\n",
              " 'think',\n",
              " 'I',\n",
              " 'know',\n",
              " 'enough',\n",
              " 'of',\n",
              " 'hate',\n",
              " 'To',\n",
              " 'say',\n",
              " 'that',\n",
              " 'for',\n",
              " 'destruction',\n",
              " 'ice',\n",
              " 'Is',\n",
              " 'also',\n",
              " 'great',\n",
              " 'And',\n",
              " 'would',\n",
              " 'suffice.']"
            ]
          },
          "metadata": {},
          "execution_count": 26
        }
      ],
      "source": [
        "poem = \"\"\"Some say the world will end in fire,\n",
        "Some say in ice.\n",
        "From what I’ve tasted of desire\n",
        "I hold with those who favor fire.\n",
        "But if it had to perish twice,\n",
        "I think I know enough of hate\n",
        "To say that for destruction ice\n",
        "Is also great\n",
        "And would suffice.\"\"\"\n",
        "\n",
        "# Your code here:\n",
        "\n",
        "poem_strings = poem.split()\n",
        "poem_strings"
      ]
    }
  ],
  "metadata": {
    "kernelspec": {
      "display_name": "Python [conda env:base] *",
      "language": "python",
      "name": "conda-base-py"
    },
    "language_info": {
      "codemirror_mode": {
        "name": "ipython",
        "version": 3
      },
      "file_extension": ".py",
      "mimetype": "text/x-python",
      "name": "python",
      "nbconvert_exporter": "python",
      "pygments_lexer": "ipython3",
      "version": "3.12.7"
    },
    "varInspector": {
      "cols": {
        "lenName": 16,
        "lenType": 16,
        "lenVar": 40
      },
      "kernels_config": {
        "python": {
          "delete_cmd_postfix": "",
          "delete_cmd_prefix": "del ",
          "library": "var_list.py",
          "varRefreshCmd": "print(var_dic_list())"
        },
        "r": {
          "delete_cmd_postfix": ") ",
          "delete_cmd_prefix": "rm(",
          "library": "var_list.r",
          "varRefreshCmd": "cat(var_dic_list()) "
        }
      },
      "types_to_exclude": [
        "module",
        "function",
        "builtin_function_or_method",
        "instance",
        "_Feature"
      ],
      "window_display": false
    },
    "colab": {
      "provenance": []
    }
  },
  "nbformat": 4,
  "nbformat_minor": 0
}