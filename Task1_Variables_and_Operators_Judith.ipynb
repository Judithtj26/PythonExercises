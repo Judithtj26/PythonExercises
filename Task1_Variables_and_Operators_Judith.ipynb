{
  "nbformat": 4,
  "nbformat_minor": 0,
  "metadata": {
    "colab": {
      "provenance": []
    },
    "kernelspec": {
      "name": "python3",
      "display_name": "Python 3"
    },
    "language_info": {
      "name": "python"
    }
  },
  "cells": [
    {
      "cell_type": "markdown",
      "source": [
        "**DSBI PGE Judith Torres Jiménez**"
      ],
      "metadata": {
        "id": "JHYmgrWUhnmf"
      }
    },
    {
      "cell_type": "markdown",
      "source": [
        "Answer each question by doing some operations with Python. Put conclusion in the comments"
      ],
      "metadata": {
        "id": "cv_Fhgw93Ns6"
      }
    },
    {
      "cell_type": "markdown",
      "source": [
        "1.1 For the following variables, use the function type() from Python to check the data type for the variables."
      ],
      "metadata": {
        "id": "jpb5_rvZiMrg"
      }
    },
    {
      "cell_type": "code",
      "source": [
        "x1 = 1.1\n",
        "x2 = \"Monday\"\n",
        "x3 = \"1.1\"\n",
        "x4 = True\n",
        "x5 = \"True\"\n",
        "x6 = -1"
      ],
      "metadata": {
        "id": "n_OE28mlhHr4"
      },
      "execution_count": null,
      "outputs": []
    },
    {
      "cell_type": "code",
      "source": [
        "type(x1)"
      ],
      "metadata": {
        "colab": {
          "base_uri": "https://localhost:8080/"
        },
        "id": "Bm6UcN_BdK1Y",
        "outputId": "b7276286-49ed-48b7-8936-3f3a40bb8c00"
      },
      "execution_count": null,
      "outputs": [
        {
          "output_type": "execute_result",
          "data": {
            "text/plain": [
              "float"
            ]
          },
          "metadata": {},
          "execution_count": 15
        }
      ]
    },
    {
      "cell_type": "code",
      "source": [
        "type(x2)"
      ],
      "metadata": {
        "colab": {
          "base_uri": "https://localhost:8080/"
        },
        "id": "Fa5MMxordZow",
        "outputId": "7a68c78e-37cf-41a9-cb9c-7ee517915855"
      },
      "execution_count": null,
      "outputs": [
        {
          "output_type": "execute_result",
          "data": {
            "text/plain": [
              "str"
            ]
          },
          "metadata": {},
          "execution_count": 16
        }
      ]
    },
    {
      "cell_type": "code",
      "source": [
        "type(x3)"
      ],
      "metadata": {
        "colab": {
          "base_uri": "https://localhost:8080/"
        },
        "id": "0v9E-Ej-dcEN",
        "outputId": "0330e75b-742e-449a-bb66-2cc6b501ae34"
      },
      "execution_count": null,
      "outputs": [
        {
          "output_type": "execute_result",
          "data": {
            "text/plain": [
              "str"
            ]
          },
          "metadata": {},
          "execution_count": 17
        }
      ]
    },
    {
      "cell_type": "code",
      "source": [
        "type(x4)"
      ],
      "metadata": {
        "colab": {
          "base_uri": "https://localhost:8080/"
        },
        "id": "ohFwgNx3ddJN",
        "outputId": "bea53392-11cd-4763-8eec-003a4fa0a203"
      },
      "execution_count": null,
      "outputs": [
        {
          "output_type": "execute_result",
          "data": {
            "text/plain": [
              "bool"
            ]
          },
          "metadata": {},
          "execution_count": 18
        }
      ]
    },
    {
      "cell_type": "code",
      "source": [
        "type(x5)"
      ],
      "metadata": {
        "colab": {
          "base_uri": "https://localhost:8080/"
        },
        "id": "hdGzY7dadebz",
        "outputId": "a8369cd2-f9d2-4e9d-9ef6-f66e7e2a130f"
      },
      "execution_count": null,
      "outputs": [
        {
          "output_type": "execute_result",
          "data": {
            "text/plain": [
              "str"
            ]
          },
          "metadata": {},
          "execution_count": 19
        }
      ]
    },
    {
      "cell_type": "code",
      "source": [
        "type(x6)"
      ],
      "metadata": {
        "colab": {
          "base_uri": "https://localhost:8080/"
        },
        "id": "FDb9LMYkdgDn",
        "outputId": "f099d63d-e31d-4231-df1b-6f06d737333f"
      },
      "execution_count": null,
      "outputs": [
        {
          "output_type": "execute_result",
          "data": {
            "text/plain": [
              "int"
            ]
          },
          "metadata": {},
          "execution_count": 21
        }
      ]
    },
    {
      "cell_type": "markdown",
      "source": [
        "1.2 What is the difference between variables x1 and x3?"
      ],
      "metadata": {
        "id": "myLT2Hq_hbN2"
      }
    },
    {
      "cell_type": "markdown",
      "source": [
        "Variable x1 is a float and variable x3 is a string\n",
        "\n"
      ],
      "metadata": {
        "id": "BpBGHmYxcadA"
      }
    },
    {
      "cell_type": "markdown",
      "source": [
        "1.3 What happens if you subtract x3 from x1?"
      ],
      "metadata": {
        "id": "XCAcLsbGiC7Z"
      }
    },
    {
      "cell_type": "markdown",
      "source": [
        "There is an error because you can't substract a float - a string."
      ],
      "metadata": {
        "id": "91tC2WKadDuq"
      }
    },
    {
      "cell_type": "code",
      "source": [
        "y = x1-x3\n",
        "print(y)"
      ],
      "metadata": {
        "colab": {
          "base_uri": "https://localhost:8080/",
          "height": 163
        },
        "id": "0bf7jSEtcnkN",
        "outputId": "f45e6146-92a2-4576-a65e-19279c0b1fb1"
      },
      "execution_count": null,
      "outputs": [
        {
          "output_type": "error",
          "ename": "TypeError",
          "evalue": "unsupported operand type(s) for -: 'float' and 'str'",
          "traceback": [
            "\u001b[0;31m---------------------------------------------------------------------------\u001b[0m",
            "\u001b[0;31mTypeError\u001b[0m                                 Traceback (most recent call last)",
            "\u001b[0;32m<ipython-input-13-da11a83c1624>\u001b[0m in \u001b[0;36m<cell line: 0>\u001b[0;34m()\u001b[0m\n\u001b[0;32m----> 1\u001b[0;31m \u001b[0my\u001b[0m \u001b[0;34m=\u001b[0m \u001b[0mx1\u001b[0m\u001b[0;34m-\u001b[0m\u001b[0mx3\u001b[0m\u001b[0;34m\u001b[0m\u001b[0;34m\u001b[0m\u001b[0m\n\u001b[0m\u001b[1;32m      2\u001b[0m \u001b[0mprint\u001b[0m\u001b[0;34m(\u001b[0m\u001b[0my\u001b[0m\u001b[0;34m)\u001b[0m\u001b[0;34m\u001b[0m\u001b[0;34m\u001b[0m\u001b[0m\n",
            "\u001b[0;31mTypeError\u001b[0m: unsupported operand type(s) for -: 'float' and 'str'"
          ]
        }
      ]
    },
    {
      "cell_type": "markdown",
      "source": [
        "1.4 What is the difference between variables x4 and x5?"
      ],
      "metadata": {
        "id": "y8Pj77kFNcYx"
      }
    },
    {
      "cell_type": "markdown",
      "source": [
        " Variable 4 is a boolean and variable 5 is a string.\n"
      ],
      "metadata": {
        "id": "hiAZbzAVb7Zm"
      }
    },
    {
      "cell_type": "markdown",
      "source": [
        "1.5 What happens if you subtract x5 from x4?"
      ],
      "metadata": {
        "id": "pTdnO9sMgX5v"
      }
    },
    {
      "cell_type": "code",
      "source": [
        "y1 = x4-x5\n",
        "print(y1)"
      ],
      "metadata": {
        "colab": {
          "base_uri": "https://localhost:8080/",
          "height": 163
        },
        "id": "6_-e6O5Ldw_B",
        "outputId": "ca880821-6643-4610-cae5-ea9365b15861"
      },
      "execution_count": null,
      "outputs": [
        {
          "output_type": "error",
          "ename": "TypeError",
          "evalue": "unsupported operand type(s) for -: 'bool' and 'str'",
          "traceback": [
            "\u001b[0;31m---------------------------------------------------------------------------\u001b[0m",
            "\u001b[0;31mTypeError\u001b[0m                                 Traceback (most recent call last)",
            "\u001b[0;32m<ipython-input-23-7457ab562a4d>\u001b[0m in \u001b[0;36m<cell line: 0>\u001b[0;34m()\u001b[0m\n\u001b[0;32m----> 1\u001b[0;31m \u001b[0my1\u001b[0m \u001b[0;34m=\u001b[0m \u001b[0mx4\u001b[0m\u001b[0;34m-\u001b[0m\u001b[0mx5\u001b[0m\u001b[0;34m\u001b[0m\u001b[0;34m\u001b[0m\u001b[0m\n\u001b[0m\u001b[1;32m      2\u001b[0m \u001b[0mprint\u001b[0m\u001b[0;34m(\u001b[0m\u001b[0my1\u001b[0m\u001b[0;34m)\u001b[0m\u001b[0;34m\u001b[0m\u001b[0;34m\u001b[0m\u001b[0m\n",
            "\u001b[0;31mTypeError\u001b[0m: unsupported operand type(s) for -: 'bool' and 'str'"
          ]
        }
      ]
    },
    {
      "cell_type": "markdown",
      "source": [
        "There is an error because they are not both a boolean\n",
        "\n"
      ],
      "metadata": {
        "id": "QyJ7MYVKd1Zx"
      }
    },
    {
      "cell_type": "markdown",
      "source": [
        "2.1 To gather input from the user, we can use the function input(message), where “message” is a meaningful message of type str and will be displayed to the user."
      ],
      "metadata": {
        "id": "Y-o6hAK6hMxf"
      }
    },
    {
      "cell_type": "markdown",
      "source": [
        "Question 1: Print the values of the two variables? As you might have noticed, data type of x1 and x2 is string. Even though we entered integers, the input function converts them into string by default. Now we do some data type conversion from string to integers:"
      ],
      "metadata": {
        "id": "M0Q6QAhYiBfM"
      }
    },
    {
      "cell_type": "code",
      "source": [
        "x1 = int(input(\"Please enter an integer number: \"))\n",
        "x2 = input(\"Please enter another integer number: \")\n",
        "x2 = int(x2)\n"
      ],
      "metadata": {
        "id": "wFCOxdpDiDoL",
        "colab": {
          "base_uri": "https://localhost:8080/"
        },
        "outputId": "c9137c48-7db8-470f-a53d-a4f5ae1aee5a"
      },
      "execution_count": null,
      "outputs": [
        {
          "name": "stdout",
          "output_type": "stream",
          "text": [
            "Please enter an integer number: 4\n",
            "Please enter another integer number: 7\n"
          ]
        }
      ]
    },
    {
      "cell_type": "markdown",
      "source": [
        "Question 2: What is the data type of x1 and x2? Now perform simple comparisons between x1 and x2:\n",
        "\n",
        "Check if the two variables are equal?\n",
        "\n",
        "Check if x1 is greater than x2?\n",
        "\n",
        "Check if x2 is greater than x1?\n",
        "\n",
        "Check if x1 is not equal to x2?\n",
        "\n",
        "Store the difference between the two variables x1 and x2 in another variable x3 (subtract the smaller number from the larger number).\n",
        "\n",
        "Increment the smaller of the two variables (x1 and x2) with the difference.Use the shorthand addition operator for the same. Again check if x1 and x2 are equal or not?"
      ],
      "metadata": {
        "id": "QfPlBSqSibky"
      }
    },
    {
      "cell_type": "code",
      "source": [
        "type(x1)"
      ],
      "metadata": {
        "id": "vuWxpve4idyU",
        "colab": {
          "base_uri": "https://localhost:8080/"
        },
        "outputId": "67624973-3860-4be3-f500-ff6e34acf1c6"
      },
      "execution_count": null,
      "outputs": [
        {
          "output_type": "execute_result",
          "data": {
            "text/plain": [
              "int"
            ]
          },
          "metadata": {},
          "execution_count": 57
        }
      ]
    },
    {
      "cell_type": "code",
      "source": [
        "type(x2)"
      ],
      "metadata": {
        "id": "t_tB0bceioi8",
        "colab": {
          "base_uri": "https://localhost:8080/"
        },
        "outputId": "8a59f326-9243-4a0a-d909-7466bb03a003"
      },
      "execution_count": null,
      "outputs": [
        {
          "output_type": "execute_result",
          "data": {
            "text/plain": [
              "int"
            ]
          },
          "metadata": {},
          "execution_count": 58
        }
      ]
    },
    {
      "cell_type": "code",
      "source": [
        "is_equal = x1 == x2\n",
        "print(is_equal)"
      ],
      "metadata": {
        "id": "FnIfSX_IjjKD",
        "colab": {
          "base_uri": "https://localhost:8080/"
        },
        "outputId": "5fdadaef-540f-4145-d5aa-abaa905846a3"
      },
      "execution_count": null,
      "outputs": [
        {
          "output_type": "stream",
          "name": "stdout",
          "text": [
            "False\n"
          ]
        }
      ]
    },
    {
      "cell_type": "code",
      "source": [
        "is_greater = x1 > x2\n",
        "print(is_greater)"
      ],
      "metadata": {
        "id": "dSZmA-rWkNKM",
        "colab": {
          "base_uri": "https://localhost:8080/"
        },
        "outputId": "c18eeda3-fd1e-47fc-ff8b-0c2d063c9b41"
      },
      "execution_count": null,
      "outputs": [
        {
          "output_type": "stream",
          "name": "stdout",
          "text": [
            "False\n"
          ]
        }
      ]
    },
    {
      "cell_type": "code",
      "source": [
        "is_greater = x2 > x1\n",
        "print(is_greater)"
      ],
      "metadata": {
        "id": "kPVA_vMkkSlY",
        "colab": {
          "base_uri": "https://localhost:8080/"
        },
        "outputId": "f4a69b6e-4e63-4870-8e9e-4b630a7dc524"
      },
      "execution_count": null,
      "outputs": [
        {
          "output_type": "stream",
          "name": "stdout",
          "text": [
            "True\n"
          ]
        }
      ]
    },
    {
      "cell_type": "code",
      "source": [
        "is_not_equal = x1 != x2\n",
        "print(is_not_equal)"
      ],
      "metadata": {
        "id": "7P37YpvtkaUd",
        "colab": {
          "base_uri": "https://localhost:8080/"
        },
        "outputId": "fdd6a1f8-676f-47f5-a087-ded542a35d31"
      },
      "execution_count": null,
      "outputs": [
        {
          "output_type": "stream",
          "name": "stdout",
          "text": [
            "True\n"
          ]
        }
      ]
    },
    {
      "cell_type": "code",
      "source": [
        "x3 = x1 - x2\n",
        "print(x3)"
      ],
      "metadata": {
        "id": "eLtx18hboWD6",
        "colab": {
          "base_uri": "https://localhost:8080/"
        },
        "outputId": "55ab710b-c562-4f63-dfed-df7972e8004f"
      },
      "execution_count": null,
      "outputs": [
        {
          "output_type": "stream",
          "name": "stdout",
          "text": [
            "-3\n"
          ]
        }
      ]
    },
    {
      "cell_type": "code",
      "source": [
        "x1 += x3\n",
        "print(x1)"
      ],
      "metadata": {
        "id": "7lS6ZsNZox7O",
        "colab": {
          "base_uri": "https://localhost:8080/"
        },
        "outputId": "dc2a3b9c-bbd6-4114-f11c-74e2cd55b324"
      },
      "execution_count": null,
      "outputs": [
        {
          "output_type": "stream",
          "name": "stdout",
          "text": [
            "1\n"
          ]
        }
      ]
    },
    {
      "cell_type": "code",
      "source": [
        "is_equal = x1 == x2\n",
        "print(is_equal)"
      ],
      "metadata": {
        "colab": {
          "base_uri": "https://localhost:8080/"
        },
        "id": "QD7pghA5hbl1",
        "outputId": "2a4a5a69-9deb-4a0f-a2ab-db2cc0496dcd"
      },
      "execution_count": null,
      "outputs": [
        {
          "output_type": "stream",
          "name": "stdout",
          "text": [
            "False\n"
          ]
        }
      ]
    }
  ]
}